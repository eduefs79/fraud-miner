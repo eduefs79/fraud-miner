{
 "cells": [
  {
   "cell_type": "code",
   "execution_count": null,
   "id": "3b086f9a-c061-4bdd-a0ae-44bf28fba1dc",
   "metadata": {},
   "outputs": [],
   "source": [
    "from datetime import datetime\n",
    "import pandas as pd\n",
    "import os\n",
    "import joblib\n",
    "from io import BytesIO\n",
    "from sklearn.model_selection import KFold, train_test_split, cross_val_score\n",
    "from sklearn.pipeline import Pipeline\n",
    "from sklearn.compose import ColumnTransformer\n",
    "from sklearn.preprocessing import OneHotEncoder, StandardScaler\n",
    "from sklearn.linear_model import LogisticRegression"
   ]
  },
  {
   "cell_type": "code",
   "execution_count": null,
   "id": "6b0ea9c2-0615-4615-800b-591d8bb802c5",
   "metadata": {},
   "outputs": [],
   "source": [
    "import boto3"
   ]
  },
  {
   "cell_type": "code",
   "execution_count": null,
   "id": "ecda2b4b-1ffb-4528-99da-b919289825a2",
   "metadata": {},
   "outputs": [],
   "source": [
    "df_spark = spark.sql(\"SELECT * FROM fraud_miner.silver.fraud_geo_view\")\n",
    "df = df_spark.toPandas()"
   ]
  },
  {
   "cell_type": "code",
   "execution_count": null,
   "id": "e37a1878-f60d-4920-af9f-141e80529128",
   "metadata": {},
   "outputs": [],
   "source": [
    "# Feature engineering\n",
    "df[\"geo_matches_merchant\"] = (df[\"geo_country\"] == df[\"Merchant_Country\"]).astype(int)\n",
    "target = \"Transaction_Fraud\"\n",
    "features = [\n",
    "    \"Transaction_Amount\",\n",
    "    \"Card_Provider\",\n",
    "    \"Merchant_Category\",\n",
    "    \"Merchant_Country\",\n",
    "    \"geo_country\",\n",
    "    \"geo_matches_merchant\"\n",
    "]\n",
    "X = df[features]\n",
    "y = df[target]"
   ]
  },
  {
   "cell_type": "code",
   "execution_count": null,
   "id": "5c3c4264-f892-42cc-b793-adbb8856ee61",
   "metadata": {},
   "outputs": [],
   "source": [
    "# Preprocessing\n",
    "numeric_features = [\"Transaction_Amount\", \"geo_matches_merchant\"]\n",
    "categorical_features = list(set(features) - set(numeric_features))\n",
    "\n",
    "numeric_transformer = StandardScaler()\n",
    "categorical_transformer = OneHotEncoder(handle_unknown=\"ignore\", sparse=False)"
   ]
  },
  {
   "cell_type": "code",
   "execution_count": null,
   "id": "9c11bb65-9db2-4d13-8530-abaf7ad5e08b",
   "metadata": {},
   "outputs": [],
   "source": [
    "preprocessor = ColumnTransformer([\n",
    "    (\"num\", numeric_transformer, numeric_features),\n",
    "    (\"cat\", categorical_transformer, categorical_features)\n",
    "])\n",
    "\n",
    "pipeline = Pipeline([\n",
    "    (\"preprocessor\", preprocessor),\n",
    "    (\"classifier\", LogisticRegression(max_iter=1000))\n",
    "])"
   ]
  },
  {
   "cell_type": "code",
   "execution_count": null,
   "id": "7b2f7b63-e94e-42a7-9de0-37460c843edc",
   "metadata": {},
   "outputs": [],
   "source": [
    "# K-Fold cross-validation\n",
    "kf = KFold(n_splits=10, shuffle=True, random_state=42)\n",
    "scores = cross_val_score(pipeline, X, y, cv=kf, scoring='accuracy')\n",
    "results_df = pd.DataFrame({\n",
    "    \"run_date\": [datetime.now()] * len(scores),\n",
    "    \"fold\": list(range(1, len(scores) + 1)),\n",
    "    \"accuracy\": scores\n",
    "})"
   ]
  },
  {
   "cell_type": "code",
   "execution_count": null,
   "id": "607a5437-d499-4256-a67d-426fdc3b5ff0",
   "metadata": {},
   "outputs": [],
   "source": [
    "# Train/test split and fit model\n",
    "X_train, X_test, y_train, y_test = train_test_split(X, y, stratify=y, random_state=42)\n",
    "pipeline.fit(X_train, y_train)\n",
    "y_pred = pipeline.predict(X_test)\n",
    "preds_df = pd.DataFrame({\n",
    "    \"run_date\": [datetime.now()] * len(y_test),\n",
    "    \"true_label\": y_test.tolist(),\n",
    "    \"predicted_label\": y_pred.tolist()\n",
    "})"
   ]
  },
  {
   "cell_type": "code",
   "execution_count": null,
   "id": "407b2807-0ee7-4f94-9eee-16652dfb672f",
   "metadata": {},
   "outputs": [],
   "source": [
    "# Save model to DBFS temporary folder\n",
    "os.makedirs(\"/tmp/fraud_models\", exist_ok=True)\n",
    "model_path = \"/tmp/fraud_models/logreg_model.pkl\"\n",
    "joblib.dump(pipeline, model_path)"
   ]
  },
  {
   "cell_type": "code",
   "execution_count": null,
   "id": "bc0fc3fd-be15-4e35-9946-4679ee3a00f0",
   "metadata": {},
   "outputs": [],
   "source": [
    "# Upload to S3\n",
    "bucket = \"fraud-miner\"\n",
    "s3_key = \"model/logreg_model.pkl\"\n",
    "s3 = boto3.client(\"s3\")\n",
    "with open(model_path, \"rb\") as f:\n",
    "    s3.upload_fileobj(f, bucket, s3_key)\n",
    "print(f\"✅ Model uploaded to s3://{bucket}/{s3_key}\")"
   ]
  },
  {
   "cell_type": "code",
   "execution_count": null,
   "id": "26dd616f-2014-4300-838e-db93af023230",
   "metadata": {},
   "outputs": [],
   "source": [
    "# Save to Databricks tables\n",
    "results_df_spark = spark.createDataFrame(results_df)\n",
    "preds_df_spark = spark.createDataFrame(preds_df)\n",
    "\n",
    "spark.sql(\"CREATE SCHEMA IF NOT EXISTS fraud_miner.gold\")\n",
    "\n",
    "results_df_spark.write.mode(\"append\").saveAsTable(\"fraud_miner.gold.model_evaluation\")\n",
    "preds_df_spark.write.mode(\"append\").saveAsTable(\"fraud_miner.gold.model_predictions\")\n",
    "\n",
    "print(\"✅ Results written to Databricks tables\")\n"
   ]
  }
 ],
 "metadata": {
  "kernelspec": {
   "display_name": "Python 3 (ipykernel)",
   "language": "python",
   "name": "python3"
  },
  "language_info": {
   "codemirror_mode": {
    "name": "ipython",
    "version": 3
   },
   "file_extension": ".py",
   "mimetype": "text/x-python",
   "name": "python",
   "nbconvert_exporter": "python",
   "pygments_lexer": "ipython3",
   "version": "3.11.6"
  }
 },
 "nbformat": 4,
 "nbformat_minor": 5
}
