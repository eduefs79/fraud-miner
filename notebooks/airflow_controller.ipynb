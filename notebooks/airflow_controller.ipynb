{
 "cells": [
  {
   "cell_type": "code",
   "execution_count": 1,
   "id": "e282b5b6-7246-4ef9-bb27-963033885369",
   "metadata": {},
   "outputs": [
    {
     "name": "stdout",
     "output_type": "stream",
     "text": [
      "401 {\n",
      "  \"detail\": null,\n",
      "  \"status\": 401,\n",
      "  \"title\": \"Unauthorized\",\n",
      "  \"type\": \"https://airflow.apache.org/docs/apache-airflow/2.8.1/stable-rest-api-ref.html#section/Errors/Unauthenticated\"\n",
      "}\n",
      "\n"
     ]
    }
   ],
   "source": [
    "import requests\n",
    "from requests.auth import HTTPBasicAuth\n",
    "\n",
    "url = \"http://airflow-webserver:8080/api/v1/dags/generate_fake_data/dagRuns\"\n",
    "response = requests.post(\n",
    "    url,\n",
    "    auth=HTTPBasicAuth(\"admin\", \"admin\"),  # use your airflow login\n",
    "    json={\"conf\": {}, \"dag_run_id\": \"manual_trigger_from_jupyter\"}\n",
    ")\n",
    "\n",
    "print(response.status_code, response.text)\n"
   ]
  },
  {
   "cell_type": "code",
   "execution_count": null,
   "id": "eb1c20b8-c3f0-47b7-8ee1-da7d50f66d88",
   "metadata": {},
   "outputs": [],
   "source": []
  }
 ],
 "metadata": {
  "kernelspec": {
   "display_name": "Python 3 (ipykernel)",
   "language": "python",
   "name": "python3"
  },
  "language_info": {
   "codemirror_mode": {
    "name": "ipython",
    "version": 3
   },
   "file_extension": ".py",
   "mimetype": "text/x-python",
   "name": "python",
   "nbconvert_exporter": "python",
   "pygments_lexer": "ipython3",
   "version": "3.11.6"
  }
 },
 "nbformat": 4,
 "nbformat_minor": 5
}
